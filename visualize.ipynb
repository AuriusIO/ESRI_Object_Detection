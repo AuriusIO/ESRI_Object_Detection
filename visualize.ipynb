{
 "cells": [
  {
   "cell_type": "markdown",
   "metadata": {},
   "source": [
    "# Visualize predictions on test set\n",
    "\n",
    "Set image_id to visualize predictions for that image"
   ]
  },
  {
   "cell_type": "code",
   "execution_count": null,
   "metadata": {},
   "outputs": [],
   "source": [
    "from keras_retinanet.utils.visualization import draw_box, draw_caption\n",
    "from keras_retinanet.utils.colors import label_color\n",
    "from keras_retinanet.utils.image import read_image_bgr, preprocess_image, resize_image\n",
    "import cv2\n",
    "from os import walk\n",
    "import matplotlib.pyplot as plt\n",
    "\n",
    "_,_,image_ids = next(walk('test_data_images/images'))\n",
    "image_ids = [i[:-4] for i in image_ids]\n",
    "image_ids = sorted(image_ids)\n",
    "\n",
    "idx = 0\n",
    "image_id = 1\n",
    "score_thres = 0.\n",
    "\n",
    "for id in image_ids:\n",
    "    # load image\n",
    "    idx += 1\n",
    "    if idx == image_id:\n",
    "        image = read_image_bgr('test_data_images/images/' + id + '.jpg')\n",
    "\n",
    "        # copy to draw on\n",
    "        draw = image.copy()\n",
    "        draw = cv2.cvtColor(draw, cv2.COLOR_BGR2RGB)\n",
    "\n",
    "        # process image\n",
    "        boxes = [list(map(int,(line.split()[3],line.split()[2],line.split()[5],line.split()[4]))) for line in open('predictions/' + id + '.txt','r').readlines()]\n",
    "        scores = [float(line.split()[1]) for line in open('predictions/' + id + '.txt','r').readlines()]\n",
    "        labels = [int(line.split()[0]) - 1 for line in open('predictions/' + id + '.txt','r').readlines()]\n",
    "        for box, score, label in zip(boxes, scores, labels):\n",
    "            if score < score_thres:\n",
    "                break\n",
    "            color = label_color(label)\n",
    "            draw_box(draw, box, color=color,thickness=1)\n",
    "            caption = \"{:.3f}\".format(score)\n",
    "            draw_caption(draw, box, caption)\n",
    "\n",
    "        plt.figure(figsize=(15, 15))\n",
    "        plt.axis('off')\n",
    "        plt.imshow(draw)\n",
    "        plt.show()\n",
    "        break"
   ]
  },
  {
   "cell_type": "code",
   "execution_count": null,
   "metadata": {},
   "outputs": [],
   "source": []
  }
 ],
 "metadata": {
  "kernelspec": {
   "display_name": "Python 3",
   "language": "python",
   "name": "python3"
  },
  "language_info": {
   "codemirror_mode": {
    "name": "ipython",
    "version": 3
   },
   "file_extension": ".py",
   "mimetype": "text/x-python",
   "name": "python",
   "nbconvert_exporter": "python",
   "pygments_lexer": "ipython3",
   "version": "3.6.7"
  }
 },
 "nbformat": 4,
 "nbformat_minor": 2
}

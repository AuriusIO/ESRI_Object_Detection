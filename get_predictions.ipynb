{
 "cells": [
  {
   "cell_type": "markdown",
   "metadata": {},
   "source": [
    "# Generate Predictions from Trained Model"
   ]
  },
  {
   "cell_type": "code",
   "execution_count": null,
   "metadata": {},
   "outputs": [],
   "source": [
    "import os\n",
    "from os import listdir, walk\n",
    "from os.path import join\n",
    "from keras_retinanet.bin.train import create_models\n",
    "from keras_retinanet.models import backbone,convert_model\n",
    "from keras_retinanet.utils.config import read_config_file,parse_anchor_parameters\n",
    "import numpy as np\n",
    "import keras\n",
    "import math\n",
    "import tensorflow as tf\n",
    "tf.set_random_seed(31)\n",
    "np.random.seed(17)"
   ]
  },
  {
   "cell_type": "code",
   "execution_count": null,
   "metadata": {},
   "outputs": [],
   "source": [
    "b = backbone('resnet50')"
   ]
  },
  {
   "cell_type": "code",
   "execution_count": null,
   "metadata": {},
   "outputs": [],
   "source": [
    "weights = b.download_imagenet()\n",
    "model, training_model, prediction_model = create_models(\n",
    "            backbone_retinanet=b.retinanet,\n",
    "            num_classes=2,\n",
    "            weights=weights,\n",
    "            multi_gpu=False,\n",
    "            freeze_backbone=False,\n",
    "            lr=1e-3,\n",
    "            config=read_config_file('config.ini')\n",
    "        )"
   ]
  },
  {
   "cell_type": "markdown",
   "metadata": {},
   "source": [
    "# Load and Convert Model\n",
    "\n",
    "Training model needs to be converted to inference model"
   ]
  },
  {
   "cell_type": "code",
   "execution_count": null,
   "metadata": {},
   "outputs": [],
   "source": [
    "training_model.load_weights('saved/resnet50_csv_70.h5')"
   ]
  },
  {
   "cell_type": "code",
   "execution_count": null,
   "metadata": {},
   "outputs": [],
   "source": [
    "infer_model = convert_model(training_model,anchor_params=parse_anchor_parameters(read_config_file('config.ini')))"
   ]
  },
  {
   "cell_type": "markdown",
   "metadata": {},
   "source": [
    "# Create Generator to load images"
   ]
  },
  {
   "cell_type": "code",
   "execution_count": null,
   "metadata": {},
   "outputs": [],
   "source": [
    "from keras_retinanet.utils.image import read_image_bgr, preprocess_image, resize_image\n",
    "from tqdm import tqdm\n",
    "\n",
    "def test_gen(image_ids, bs = 32, size=672,test = True):\n",
    "    imgs = []\n",
    "    scale = None\n",
    "    idx = 0\n",
    "    if test:\n",
    "        path = 'test_data_images/images/'\n",
    "    else:\n",
    "        path = 'training_data/images/'\n",
    "    \n",
    "    while idx < len(image_ids):\n",
    "        if len(imgs) < bs:\n",
    "            imgs.append(resize_image(preprocess_image(read_image_bgr(path + image_ids[idx] + '.jpg')),min_side=size,max_side=size)[0])            \n",
    "            if scale is None:\n",
    "                scale = resize_image(preprocess_image(read_image_bgr(path + image_ids[idx] + '.jpg')),min_side=size,max_side=size)[1]\n",
    "            idx += 1\n",
    "        else:\n",
    "            yield np.array(imgs),scale\n",
    "            imgs = []\n",
    "            \n",
    "            \n",
    "    if len(imgs) > 0:\n",
    "        yield np.array(imgs),scale        "
   ]
  },
  {
   "cell_type": "markdown",
   "metadata": {},
   "source": [
    "# Save Predictions"
   ]
  },
  {
   "cell_type": "code",
   "execution_count": null,
   "metadata": {},
   "outputs": [],
   "source": [
    "_,_,image_ids = next(walk('test_data_images/images'))\n",
    "image_ids = [i[:-4] for i in image_ids]\n",
    "image_ids = sorted(image_ids)\n",
    "\n",
    "os.system('mkdir predictions')\n",
    "\n",
    "iter_num = 0\n",
    "test_bs = 8\n",
    "\n",
    "\n",
    "for imgs,scale in tqdm(test_gen(image_ids,bs=test_bs),total=math.ceil(len(image_ids)/test_bs)):\n",
    "    boxes, scores, labels = infer_model.predict_on_batch(imgs)\n",
    "    boxes /= scale\n",
    "    for img_num in range(len(imgs)):\n",
    "        with open('predictions/' + image_ids[(iter_num*test_bs) + img_num] + '.txt', 'w') as f:\n",
    "            for box, score, label in zip(boxes[img_num], scores[img_num], labels[img_num]):\n",
    "                # scores are sorted so we can break\n",
    "                if score < 0:\n",
    "                    break\n",
    "                f.write(f'{label + 1} {score} {int((box[1]))} {int((box[0]))} {int((box[3]))} {int((box[2]))} \\n')\n",
    "    iter_num += 1"
   ]
  },
  {
   "cell_type": "code",
   "execution_count": null,
   "metadata": {},
   "outputs": [],
   "source": [
    "os.system('zip -r predictions.zip predictions/')"
   ]
  },
  {
   "cell_type": "code",
   "execution_count": null,
   "metadata": {},
   "outputs": [],
   "source": []
  }
 ],
 "metadata": {
  "kernelspec": {
   "display_name": "Python 3",
   "language": "python",
   "name": "python3"
  },
  "language_info": {
   "codemirror_mode": {
    "name": "ipython",
    "version": 3
   },
   "file_extension": ".py",
   "mimetype": "text/x-python",
   "name": "python",
   "nbconvert_exporter": "python",
   "pygments_lexer": "ipython3",
   "version": "3.6.7"
  }
 },
 "nbformat": 4,
 "nbformat_minor": 2
}
